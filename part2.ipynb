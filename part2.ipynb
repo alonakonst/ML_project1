{
 "cells": [
  {
   "cell_type": "code",
   "execution_count": 1,
   "id": "a242b405-7ed1-4b0e-9790-3f96aaf47073",
   "metadata": {
    "ExecuteTime": {
     "end_time": "2024-02-20T14:29:32.701633700Z",
     "start_time": "2024-02-20T14:29:30.086423Z"
    }
   },
   "outputs": [],
   "source": [
    "import pandas as pd\n",
    "import matplotlib.pyplot as plt\n",
    "import numpy as np"
   ]
  },
  {
   "cell_type": "code",
   "execution_count": 2,
   "id": "0283445b-37f6-413e-88aa-5533c0886017",
   "metadata": {
    "ExecuteTime": {
     "end_time": "2024-02-20T14:29:54.945961500Z",
     "start_time": "2024-02-20T14:29:54.760450300Z"
    }
   },
   "outputs": [
    {
     "data": {
      "text/html": [
       "<div>\n",
       "<style scoped>\n",
       "    .dataframe tbody tr th:only-of-type {\n",
       "        vertical-align: middle;\n",
       "    }\n",
       "\n",
       "    .dataframe tbody tr th {\n",
       "        vertical-align: top;\n",
       "    }\n",
       "\n",
       "    .dataframe thead th {\n",
       "        text-align: right;\n",
       "    }\n",
       "</style>\n",
       "<table border=\"1\" class=\"dataframe\">\n",
       "  <thead>\n",
       "    <tr style=\"text-align: right;\">\n",
       "      <th></th>\n",
       "      <th>carat</th>\n",
       "      <th>cut</th>\n",
       "      <th>color</th>\n",
       "      <th>clarity</th>\n",
       "      <th>depth</th>\n",
       "      <th>table</th>\n",
       "      <th>price</th>\n",
       "      <th>x</th>\n",
       "      <th>y</th>\n",
       "      <th>z</th>\n",
       "    </tr>\n",
       "  </thead>\n",
       "  <tbody>\n",
       "    <tr>\n",
       "      <th>0</th>\n",
       "      <td>0.23</td>\n",
       "      <td>Ideal</td>\n",
       "      <td>E</td>\n",
       "      <td>SI2</td>\n",
       "      <td>61.5</td>\n",
       "      <td>55.0</td>\n",
       "      <td>326</td>\n",
       "      <td>3.95</td>\n",
       "      <td>3.98</td>\n",
       "      <td>2.43</td>\n",
       "    </tr>\n",
       "    <tr>\n",
       "      <th>1</th>\n",
       "      <td>0.21</td>\n",
       "      <td>Premium</td>\n",
       "      <td>E</td>\n",
       "      <td>SI1</td>\n",
       "      <td>59.8</td>\n",
       "      <td>61.0</td>\n",
       "      <td>326</td>\n",
       "      <td>3.89</td>\n",
       "      <td>3.84</td>\n",
       "      <td>2.31</td>\n",
       "    </tr>\n",
       "    <tr>\n",
       "      <th>2</th>\n",
       "      <td>0.23</td>\n",
       "      <td>Good</td>\n",
       "      <td>E</td>\n",
       "      <td>VS1</td>\n",
       "      <td>56.9</td>\n",
       "      <td>65.0</td>\n",
       "      <td>327</td>\n",
       "      <td>4.05</td>\n",
       "      <td>4.07</td>\n",
       "      <td>2.31</td>\n",
       "    </tr>\n",
       "    <tr>\n",
       "      <th>3</th>\n",
       "      <td>0.29</td>\n",
       "      <td>Premium</td>\n",
       "      <td>I</td>\n",
       "      <td>VS2</td>\n",
       "      <td>62.4</td>\n",
       "      <td>58.0</td>\n",
       "      <td>334</td>\n",
       "      <td>4.20</td>\n",
       "      <td>4.23</td>\n",
       "      <td>2.63</td>\n",
       "    </tr>\n",
       "    <tr>\n",
       "      <th>4</th>\n",
       "      <td>0.31</td>\n",
       "      <td>Good</td>\n",
       "      <td>J</td>\n",
       "      <td>SI2</td>\n",
       "      <td>63.3</td>\n",
       "      <td>58.0</td>\n",
       "      <td>335</td>\n",
       "      <td>4.34</td>\n",
       "      <td>4.35</td>\n",
       "      <td>2.75</td>\n",
       "    </tr>\n",
       "  </tbody>\n",
       "</table>\n",
       "</div>"
      ],
      "text/plain": [
       "   carat      cut color clarity  depth  table  price     x     y     z\n",
       "0   0.23    Ideal     E     SI2   61.5   55.0    326  3.95  3.98  2.43\n",
       "1   0.21  Premium     E     SI1   59.8   61.0    326  3.89  3.84  2.31\n",
       "2   0.23     Good     E     VS1   56.9   65.0    327  4.05  4.07  2.31\n",
       "3   0.29  Premium     I     VS2   62.4   58.0    334  4.20  4.23  2.63\n",
       "4   0.31     Good     J     SI2   63.3   58.0    335  4.34  4.35  2.75"
      ]
     },
     "execution_count": 2,
     "metadata": {},
     "output_type": "execute_result"
    }
   ],
   "source": [
    "data=pd.read_csv('diamonds.csv', sep=',')\n",
    "data.head()"
   ]
  },
  {
   "cell_type": "code",
   "execution_count": 3,
   "id": "6a1ed854-380f-4d82-a558-59caacea54e1",
   "metadata": {
    "ExecuteTime": {
     "end_time": "2024-02-20T14:29:59.476055100Z",
     "start_time": "2024-02-20T14:29:59.433476400Z"
    }
   },
   "outputs": [
    {
     "name": "stdout",
     "output_type": "stream",
     "text": [
      "carat      float64\n",
      "cut         object\n",
      "color       object\n",
      "clarity     object\n",
      "depth      float64\n",
      "table      float64\n",
      "price        int64\n",
      "x          float64\n",
      "y          float64\n",
      "z          float64\n",
      "dtype: object\n"
     ]
    }
   ],
   "source": [
    "#Describe if the attributes are discrete/continuous, Nominal/Ordinal/Interval/Ratio\n",
    "print(data.dtypes)"
   ]
  },
  {
   "cell_type": "code",
   "execution_count": 5,
   "id": "fd3efe4a-eb1d-40cc-93d6-9ebc113785b2",
   "metadata": {
    "ExecuteTime": {
     "end_time": "2024-02-20T14:30:01.956484800Z",
     "start_time": "2024-02-20T14:30:01.929163500Z"
    }
   },
   "outputs": [
    {
     "name": "stdout",
     "output_type": "stream",
     "text": [
      "carat      float64\n",
      "cut         object\n",
      "color       object\n",
      "clarity     object\n",
      "depth      float64\n",
      "table      float64\n",
      "price        int64\n",
      "x          float64\n",
      "y          float64\n",
      "z          float64\n",
      "dtype: object\n"
     ]
    }
   ],
   "source": [
    "# Convert 'carat', 'depth', 'table', 'x', 'y', 'z' columns to numeric\n",
    "cols_to_convert = ['carat', 'depth', 'table', 'x', 'y', 'z']\n",
    "\n",
    "for col in cols_to_convert:\n",
    "    data[col] = pd.to_numeric(data[col], errors='coerce')\n",
    "print(data.dtypes)"
   ]
  },
  {
   "cell_type": "code",
   "execution_count": 6,
   "id": "f1d86c71-91fd-4f25-a152-7be5ee61c66b",
   "metadata": {
    "ExecuteTime": {
     "end_time": "2024-02-20T14:30:06.508732600Z",
     "start_time": "2024-02-20T14:30:06.447586600Z"
    },
    "scrolled": true
   },
   "outputs": [
    {
     "name": "stdout",
     "output_type": "stream",
     "text": [
      "cut\n",
      "Ideal        21551\n",
      "Premium      13791\n",
      "Very Good    12082\n",
      "Good          4906\n",
      "Fair          1610\n",
      "Name: count, dtype: int64\n",
      "color\n",
      "G    11292\n",
      "E     9797\n",
      "F     9542\n",
      "H     8304\n",
      "D     6775\n",
      "I     5422\n",
      "J     2808\n",
      "Name: count, dtype: int64\n",
      "clarity\n",
      "SI1     13065\n",
      "VS2     12258\n",
      "SI2      9194\n",
      "VS1      8171\n",
      "VVS2     5066\n",
      "VVS1     3655\n",
      "IF       1790\n",
      "I1        741\n",
      "Name: count, dtype: int64\n"
     ]
    }
   ],
   "source": [
    "#Give an account of whether there are data issues (i.e. missing values or corrupted data) and describe them if so.\n",
    "print(data['cut'].value_counts())\n",
    "print(data['color'].value_counts())\n",
    "print(data['clarity'].value_counts())"
   ]
  },
  {
   "cell_type": "code",
   "execution_count": 4,
   "id": "11e19933-d9f4-40d8-b435-ce31eb8c6264",
   "metadata": {
    "ExecuteTime": {
     "end_time": "2024-02-20T14:30:08.035549500Z",
     "start_time": "2024-02-20T14:30:07.918938500Z"
    }
   },
   "outputs": [
    {
     "name": "stdout",
     "output_type": "stream",
     "text": [
      "Missing values in each column:\n",
      "carat      0\n",
      "cut        0\n",
      "color      0\n",
      "clarity    0\n",
      "depth      0\n",
      "table      0\n",
      "price      0\n",
      "x          0\n",
      "y          0\n",
      "z          0\n",
      "dtype: int64\n",
      "Duplicated rows:  146\n",
      "Rows with all missing values:  0\n"
     ]
    }
   ],
   "source": [
    "# Check for missing values in the entire dataset\n",
    "print(\"Missing values in each column:\")\n",
    "print(data.isnull().sum())\n",
    "\n",
    "# Check for duplicated rows\n",
    "print(\"Duplicated rows: \", data.duplicated().sum())\n",
    "\n",
    "# Check for rows where all columns are missing\n",
    "print(\"Rows with all missing values: \", data.isnull().all(axis=1).sum())"
   ]
  },
  {
   "cell_type": "code",
   "execution_count": 5,
   "id": "a4100fb0-42bb-4ac1-b8fa-1d3c9c2a9993",
   "metadata": {
    "ExecuteTime": {
     "end_time": "2024-02-20T14:30:10.611520600Z",
     "start_time": "2024-02-20T14:30:10.561394Z"
    }
   },
   "outputs": [
    {
     "name": "stdout",
     "output_type": "stream",
     "text": [
      "Corrupted data in x:  8\n",
      "Corrupted data in y:  7\n",
      "Corrupted data in z:  20\n"
     ]
    }
   ],
   "source": [
    "#checks for negative values in columns that should only contain positive values (like 'carat', 'depth', 'table', 'x', 'y', 'z', 'price') \n",
    "#and zero values in columns that should not contain zero ('carat', 'x', 'y', 'z'). \n",
    "#checks if all values in the 'cut', 'color', and 'clarity' columns are within the expected categories.'\n",
    "# Convert columns to the proper datatype\n",
    "data['carat'] = pd.to_numeric(data['carat'], errors='coerce')\n",
    "data['depth'] = pd.to_numeric(data['depth'], errors='coerce')\n",
    "data['table'] = pd.to_numeric(data['table'], errors='coerce')\n",
    "data['x'] = pd.to_numeric(data['x'], errors='coerce')\n",
    "data['y'] = pd.to_numeric(data['y'], errors='coerce')\n",
    "data['z'] = pd.to_numeric(data['z'], errors='coerce')\n",
    "data['price'] = pd.to_numeric(data['price'], errors='coerce')\n",
    "\n",
    "# Check for negative values in columns that should only contain positive values\n",
    "for col in ['carat', 'depth', 'table', 'x', 'y', 'z', 'price']:\n",
    "    if data[data[col] < 0].shape[0] > 0:\n",
    "        print(f\"Corrupted data in {col}: \", data[data[col] < 0].shape[0])\n",
    "\n",
    "# Check for zero values in columns that should not contain zero\n",
    "for col in ['carat', 'x', 'y', 'z']:\n",
    "    if data[data[col] == 0].shape[0] > 0:\n",
    "        print(f\"Corrupted data in {col}: \", data[data[col] == 0].shape[0])\n",
    "\n",
    "# Check for values in 'cut', 'color', 'clarity' that are not in the expected categories\n",
    "expected_cuts = ['Ideal', 'Premium', 'Very Good', 'Good', 'Fair']\n",
    "expected_colors = ['D', 'E', 'F', 'G', 'H', 'I', 'J']\n",
    "expected_clarity = ['SI1', 'VS2', 'SI2', 'VS1', 'VVS2', 'VVS1', 'IF', 'I1']\n",
    "\n",
    "if not set(data['cut']).issubset(expected_cuts):\n",
    "    print(\"Unexpected values in 'cut'\")\n",
    "if not set(data['color']).issubset(expected_colors):\n",
    "    print(\"Unexpected values in 'color'\")\n",
    "if not set(data['clarity']).issubset(expected_clarity):\n",
    "    print(\"Unexpected values in 'clarity'\")"
   ]
  },
  {
   "cell_type": "code",
   "execution_count": 9,
   "id": "51da13d1-3fd2-4612-96eb-fa794e242078",
   "metadata": {
    "ExecuteTime": {
     "end_time": "2024-02-20T14:30:12.145437200Z",
     "start_time": "2024-02-20T14:30:12.011186500Z"
    }
   },
   "outputs": [
    {
     "name": "stdout",
     "output_type": "stream",
     "text": [
      "              carat         depth         table         price             x  \\\n",
      "count  53940.000000  53940.000000  53940.000000  53940.000000  53940.000000   \n",
      "mean       0.797940     61.749405     57.457184   3932.799722      5.731157   \n",
      "std        0.474011      1.432621      2.234491   3989.439738      1.121761   \n",
      "min        0.200000     43.000000     43.000000    326.000000      0.000000   \n",
      "25%        0.400000     61.000000     56.000000    950.000000      4.710000   \n",
      "50%        0.700000     61.800000     57.000000   2401.000000      5.700000   \n",
      "75%        1.040000     62.500000     59.000000   5324.250000      6.540000   \n",
      "max        5.010000     79.000000     95.000000  18823.000000     10.740000   \n",
      "\n",
      "                  y             z  \n",
      "count  53940.000000  53940.000000  \n",
      "mean       5.734526      3.538734  \n",
      "std        1.142135      0.705699  \n",
      "min        0.000000      0.000000  \n",
      "25%        4.720000      2.910000  \n",
      "50%        5.710000      3.530000  \n",
      "75%        6.540000      4.040000  \n",
      "max       58.900000     31.800000  \n"
     ]
    }
   ],
   "source": [
    "# Print summary statistics for specific columns\n",
    "print(data[['carat', 'depth', 'table', 'price', 'x', 'y', 'z']].describe())"
   ]
  },
  {
   "cell_type": "code",
   "execution_count": null,
   "id": "0bc040f7-91f3-4873-97d6-478c20d18f00",
   "metadata": {},
   "outputs": [],
   "source": []
  },
  {
   "cell_type": "code",
   "execution_count": null,
   "id": "1170e7b7-3e78-4119-abb1-0b74e7d14c24",
   "metadata": {},
   "outputs": [],
   "source": []
  }
 ],
 "metadata": {
  "kernelspec": {
   "display_name": "Python 3 (ipykernel)",
   "language": "python",
   "name": "python3"
  },
  "language_info": {
   "codemirror_mode": {
    "name": "ipython",
    "version": 3
   },
   "file_extension": ".py",
   "mimetype": "text/x-python",
   "name": "python",
   "nbconvert_exporter": "python",
   "pygments_lexer": "ipython3",
   "version": "3.11.1"
  }
 },
 "nbformat": 4,
 "nbformat_minor": 5
}
