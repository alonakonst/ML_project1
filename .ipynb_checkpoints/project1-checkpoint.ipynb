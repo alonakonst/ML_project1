{
 "cells": [
  {
   "cell_type": "code",
   "execution_count": 62,
   "id": "initial_id",
   "metadata": {
    "ExecuteTime": {
     "end_time": "2024-02-15T18:54:04.095148900Z",
     "start_time": "2024-02-15T18:54:02.949861200Z"
    }
   },
   "outputs": [],
   "source": [
    "import pandas as pd\n",
    "import matplotlib.pyplot as plt\n",
    "import numpy as np"
   ]
  },
  {
   "cell_type": "code",
   "execution_count": 88,
   "id": "9209f6dd880725a",
   "metadata": {
    "ExecuteTime": {
     "end_time": "2024-02-15T18:54:13.307576900Z",
     "start_time": "2024-02-15T18:54:13.072240400Z"
    }
   },
   "outputs": [
    {
     "data": {
      "text/html": [
       "<div>\n",
       "<style scoped>\n",
       "    .dataframe tbody tr th:only-of-type {\n",
       "        vertical-align: middle;\n",
       "    }\n",
       "\n",
       "    .dataframe tbody tr th {\n",
       "        vertical-align: top;\n",
       "    }\n",
       "\n",
       "    .dataframe thead th {\n",
       "        text-align: right;\n",
       "    }\n",
       "</style>\n",
       "<table border=\"1\" class=\"dataframe\">\n",
       "  <thead>\n",
       "    <tr style=\"text-align: right;\">\n",
       "      <th></th>\n",
       "      <th>carat</th>\n",
       "      <th>cut</th>\n",
       "      <th>color</th>\n",
       "      <th>clarity</th>\n",
       "      <th>depth</th>\n",
       "      <th>table</th>\n",
       "      <th>price</th>\n",
       "      <th>x</th>\n",
       "      <th>y</th>\n",
       "      <th>z</th>\n",
       "    </tr>\n",
       "  </thead>\n",
       "  <tbody>\n",
       "    <tr>\n",
       "      <th>0</th>\n",
       "      <td>0.23</td>\n",
       "      <td>Ideal</td>\n",
       "      <td>E</td>\n",
       "      <td>SI2</td>\n",
       "      <td>61.5</td>\n",
       "      <td>55.0</td>\n",
       "      <td>326</td>\n",
       "      <td>3.95</td>\n",
       "      <td>3.98</td>\n",
       "      <td>2.43</td>\n",
       "    </tr>\n",
       "    <tr>\n",
       "      <th>1</th>\n",
       "      <td>0.21</td>\n",
       "      <td>Premium</td>\n",
       "      <td>E</td>\n",
       "      <td>SI1</td>\n",
       "      <td>59.8</td>\n",
       "      <td>61.0</td>\n",
       "      <td>326</td>\n",
       "      <td>3.89</td>\n",
       "      <td>3.84</td>\n",
       "      <td>2.31</td>\n",
       "    </tr>\n",
       "    <tr>\n",
       "      <th>2</th>\n",
       "      <td>0.23</td>\n",
       "      <td>Good</td>\n",
       "      <td>E</td>\n",
       "      <td>VS1</td>\n",
       "      <td>56.9</td>\n",
       "      <td>65.0</td>\n",
       "      <td>327</td>\n",
       "      <td>4.05</td>\n",
       "      <td>4.07</td>\n",
       "      <td>2.31</td>\n",
       "    </tr>\n",
       "    <tr>\n",
       "      <th>3</th>\n",
       "      <td>0.29</td>\n",
       "      <td>Premium</td>\n",
       "      <td>I</td>\n",
       "      <td>VS2</td>\n",
       "      <td>62.4</td>\n",
       "      <td>58.0</td>\n",
       "      <td>334</td>\n",
       "      <td>4.20</td>\n",
       "      <td>4.23</td>\n",
       "      <td>2.63</td>\n",
       "    </tr>\n",
       "    <tr>\n",
       "      <th>4</th>\n",
       "      <td>0.31</td>\n",
       "      <td>Good</td>\n",
       "      <td>J</td>\n",
       "      <td>SI2</td>\n",
       "      <td>63.3</td>\n",
       "      <td>58.0</td>\n",
       "      <td>335</td>\n",
       "      <td>4.34</td>\n",
       "      <td>4.35</td>\n",
       "      <td>2.75</td>\n",
       "    </tr>\n",
       "  </tbody>\n",
       "</table>\n",
       "</div>"
      ],
      "text/plain": [
       "   carat      cut color clarity  depth  table  price     x     y     z\n",
       "0   0.23    Ideal     E     SI2   61.5   55.0    326  3.95  3.98  2.43\n",
       "1   0.21  Premium     E     SI1   59.8   61.0    326  3.89  3.84  2.31\n",
       "2   0.23     Good     E     VS1   56.9   65.0    327  4.05  4.07  2.31\n",
       "3   0.29  Premium     I     VS2   62.4   58.0    334  4.20  4.23  2.63\n",
       "4   0.31     Good     J     SI2   63.3   58.0    335  4.34  4.35  2.75"
      ]
     },
     "execution_count": 88,
     "metadata": {},
     "output_type": "execute_result"
    }
   ],
   "source": [
    "data=pd.read_csv('diamonds.csv')\n",
    "data.head()"
   ]
  },
  {
   "cell_type": "code",
   "execution_count": 89,
   "id": "5173a44e",
   "metadata": {},
   "outputs": [
    {
     "name": "stdout",
     "output_type": "stream",
     "text": [
      "Amount of rows and columns: (53940, 10)\n"
     ]
    }
   ],
   "source": [
    "print(f'Amount of rows and columns: {data.shape}')"
   ]
  },
  {
   "cell_type": "code",
   "execution_count": 90,
   "id": "d04478ee",
   "metadata": {},
   "outputs": [
    {
     "data": {
      "text/html": [
       "<div>\n",
       "<style scoped>\n",
       "    .dataframe tbody tr th:only-of-type {\n",
       "        vertical-align: middle;\n",
       "    }\n",
       "\n",
       "    .dataframe tbody tr th {\n",
       "        vertical-align: top;\n",
       "    }\n",
       "\n",
       "    .dataframe thead th {\n",
       "        text-align: right;\n",
       "    }\n",
       "</style>\n",
       "<table border=\"1\" class=\"dataframe\">\n",
       "  <thead>\n",
       "    <tr style=\"text-align: right;\">\n",
       "      <th></th>\n",
       "      <th>carat</th>\n",
       "      <th>depth</th>\n",
       "      <th>table</th>\n",
       "      <th>price</th>\n",
       "      <th>x</th>\n",
       "      <th>y</th>\n",
       "      <th>z</th>\n",
       "    </tr>\n",
       "  </thead>\n",
       "  <tbody>\n",
       "    <tr>\n",
       "      <th>count</th>\n",
       "      <td>53940.000000</td>\n",
       "      <td>53940.000000</td>\n",
       "      <td>53940.000000</td>\n",
       "      <td>53940.000000</td>\n",
       "      <td>53940.000000</td>\n",
       "      <td>53940.000000</td>\n",
       "      <td>53940.000000</td>\n",
       "    </tr>\n",
       "    <tr>\n",
       "      <th>mean</th>\n",
       "      <td>0.797940</td>\n",
       "      <td>61.749405</td>\n",
       "      <td>57.457184</td>\n",
       "      <td>3932.799722</td>\n",
       "      <td>5.731157</td>\n",
       "      <td>5.734526</td>\n",
       "      <td>3.538734</td>\n",
       "    </tr>\n",
       "    <tr>\n",
       "      <th>std</th>\n",
       "      <td>0.474011</td>\n",
       "      <td>1.432621</td>\n",
       "      <td>2.234491</td>\n",
       "      <td>3989.439738</td>\n",
       "      <td>1.121761</td>\n",
       "      <td>1.142135</td>\n",
       "      <td>0.705699</td>\n",
       "    </tr>\n",
       "    <tr>\n",
       "      <th>min</th>\n",
       "      <td>0.200000</td>\n",
       "      <td>43.000000</td>\n",
       "      <td>43.000000</td>\n",
       "      <td>326.000000</td>\n",
       "      <td>0.000000</td>\n",
       "      <td>0.000000</td>\n",
       "      <td>0.000000</td>\n",
       "    </tr>\n",
       "    <tr>\n",
       "      <th>25%</th>\n",
       "      <td>0.400000</td>\n",
       "      <td>61.000000</td>\n",
       "      <td>56.000000</td>\n",
       "      <td>950.000000</td>\n",
       "      <td>4.710000</td>\n",
       "      <td>4.720000</td>\n",
       "      <td>2.910000</td>\n",
       "    </tr>\n",
       "    <tr>\n",
       "      <th>50%</th>\n",
       "      <td>0.700000</td>\n",
       "      <td>61.800000</td>\n",
       "      <td>57.000000</td>\n",
       "      <td>2401.000000</td>\n",
       "      <td>5.700000</td>\n",
       "      <td>5.710000</td>\n",
       "      <td>3.530000</td>\n",
       "    </tr>\n",
       "    <tr>\n",
       "      <th>75%</th>\n",
       "      <td>1.040000</td>\n",
       "      <td>62.500000</td>\n",
       "      <td>59.000000</td>\n",
       "      <td>5324.250000</td>\n",
       "      <td>6.540000</td>\n",
       "      <td>6.540000</td>\n",
       "      <td>4.040000</td>\n",
       "    </tr>\n",
       "    <tr>\n",
       "      <th>max</th>\n",
       "      <td>5.010000</td>\n",
       "      <td>79.000000</td>\n",
       "      <td>95.000000</td>\n",
       "      <td>18823.000000</td>\n",
       "      <td>10.740000</td>\n",
       "      <td>58.900000</td>\n",
       "      <td>31.800000</td>\n",
       "    </tr>\n",
       "  </tbody>\n",
       "</table>\n",
       "</div>"
      ],
      "text/plain": [
       "              carat         depth         table         price             x  \\\n",
       "count  53940.000000  53940.000000  53940.000000  53940.000000  53940.000000   \n",
       "mean       0.797940     61.749405     57.457184   3932.799722      5.731157   \n",
       "std        0.474011      1.432621      2.234491   3989.439738      1.121761   \n",
       "min        0.200000     43.000000     43.000000    326.000000      0.000000   \n",
       "25%        0.400000     61.000000     56.000000    950.000000      4.710000   \n",
       "50%        0.700000     61.800000     57.000000   2401.000000      5.700000   \n",
       "75%        1.040000     62.500000     59.000000   5324.250000      6.540000   \n",
       "max        5.010000     79.000000     95.000000  18823.000000     10.740000   \n",
       "\n",
       "                  y             z  \n",
       "count  53940.000000  53940.000000  \n",
       "mean       5.734526      3.538734  \n",
       "std        1.142135      0.705699  \n",
       "min        0.000000      0.000000  \n",
       "25%        4.720000      2.910000  \n",
       "50%        5.710000      3.530000  \n",
       "75%        6.540000      4.040000  \n",
       "max       58.900000     31.800000  "
      ]
     },
     "execution_count": 90,
     "metadata": {},
     "output_type": "execute_result"
    }
   ],
   "source": [
    "#descriptive stats\n",
    "data.describe()"
   ]
  },
  {
   "cell_type": "markdown",
   "id": "ce1f21fd",
   "metadata": {
    "ExecuteTime": {
     "end_time": "2024-02-15T18:55:02.177092900Z",
     "start_time": "2024-02-15T18:55:02.129019Z"
    }
   },
   "source": [
    "## Are there issues with outliers in the data?"
   ]
  },
  {
   "cell_type": "markdown",
   "id": "95842f63",
   "metadata": {},
   "source": [
    "Firstly, we would like to check if there are abnormal data inputs in columns with nonnumerical data"
   ]
  },
  {
   "cell_type": "code",
   "execution_count": 91,
   "id": "85b5cd32",
   "metadata": {},
   "outputs": [
    {
     "name": "stdout",
     "output_type": "stream",
     "text": [
      "Ideal        21551\n",
      "Premium      13791\n",
      "Very Good    12082\n",
      "Good          4906\n",
      "Fair          1610\n",
      "Name: cut, dtype: int64\n",
      "G    11292\n",
      "E     9797\n",
      "F     9542\n",
      "H     8304\n",
      "D     6775\n",
      "I     5422\n",
      "J     2808\n",
      "Name: color, dtype: int64\n",
      "SI1     13065\n",
      "VS2     12258\n",
      "SI2      9194\n",
      "VS1      8171\n",
      "VVS2     5066\n",
      "VVS1     3655\n",
      "IF       1790\n",
      "I1        741\n",
      "Name: clarity, dtype: int64\n"
     ]
    }
   ],
   "source": [
    "print(data['cut'].value_counts())\n",
    "print(data['color'].value_counts())\n",
    "print(data['clarity'].value_counts())"
   ]
  },
  {
   "cell_type": "markdown",
   "id": "217b32ea",
   "metadata": {},
   "source": [
    "There is no abnormal data inputs for columns 'cut', 'color' and 'clarity'"
   ]
  },
  {
   "cell_type": "markdown",
   "id": "c8032f3e",
   "metadata": {},
   "source": [
    "To address outliers, data is visualized in box plots"
   ]
  },
  {
   "cell_type": "code",
   "execution_count": 92,
   "id": "17635cd203869d36",
   "metadata": {},
   "outputs": [],
   "source": [
    "def plot_boxplot(ft):\n",
    "    fig = plt.figure(figsize =(7, 7))\n",
    "    plt.boxplot(data[ft])\n",
    "    plt.show()"
   ]
  },
  {
   "cell_type": "code",
   "execution_count": 93,
   "id": "7575c9ee",
   "metadata": {},
   "outputs": [
    {
     "data": {
      "image/png": "[encoded data removed]",
      "text/plain": [
       "<Figure size 700x700 with 1 Axes>"
      ]
     },
     "metadata": {},
     "output_type": "display_data"
    }
   ],
   "source": [
    "#Example box plot for 'table' attribute\n",
    "plot_boxplot('table')"
   ]
  },
  {
   "cell_type": "markdown",
   "id": "2d8b8304",
   "metadata": {},
   "source": [
    "Next, outliers are removed"
   ]
  },
  {
   "cell_type": "code",
   "execution_count": 94,
   "id": "a6ca922b",
   "metadata": {},
   "outputs": [],
   "source": [
    "#This function returns a list of indexes of outliers, by calculation IQR\n",
    "def outliers(ft):\n",
    "    Q1=data[ft].quantile(0.25)\n",
    "    Q3=data[ft].quantile(0.75)\n",
    "    IQR=Q3-Q1\n",
    "    lower_bound = Q1-1.5*IQR\n",
    "    upper_bound = Q3+1.5*IQR\n",
    "    ls = data.index[(data[ft]<lower_bound) | (data[ft]>upper_bound)]\n",
    "    return ls"
   ]
  },
  {
   "cell_type": "code",
   "execution_count": null,
   "id": "c580ee8d",
   "metadata": {},
   "outputs": [],
   "source": [
    "# list of index with outliers for all attributes\n",
    "index_list = []\n",
    "for feature in ['carat','depth', 'table', 'price', 'x','y','z']:\n",
    "    index_list.extend(outliers(feature))\n",
    "print(f'Total amount of outliers: {len(set(index_list))}')"
   ]
  },
  {
   "cell_type": "code",
   "execution_count": 96,
   "id": "12a106ef",
   "metadata": {},
   "outputs": [],
   "source": [
    "#function which removes outliers from our dataset:\n",
    "def removed(ls):\n",
    "    ls = sorted(set(ls))\n",
    "    data_cleaned = data.drop(ls)\n",
    "    return data_cleaned"
   ]
  },
  {
   "cell_type": "code",
   "execution_count": 97,
   "id": "43a25a79",
   "metadata": {},
   "outputs": [],
   "source": [
    "data = removed(index_list)"
   ]
  },
  {
   "cell_type": "code",
   "execution_count": 98,
   "id": "fcd8164b",
   "metadata": {},
   "outputs": [
    {
     "name": "stdout",
     "output_type": "stream",
     "text": [
      "size of dataframe without outliers: (47524, 10)\n"
     ]
    }
   ],
   "source": [
    "print(f'size of dataframe without outliers: {data.shape}')"
   ]
  },
  {
   "cell_type": "markdown",
   "id": "a384d681",
   "metadata": {},
   "source": [
    "## Do the attributes appear to be normal distributed?"
   ]
  },
  {
   "cell_type": "code",
   "execution_count": 149,
   "id": "030b374b",
   "metadata": {},
   "outputs": [],
   "source": [
    "#plotting distribution\n",
    "def plot_histogram(ft):\n",
    "    fig = plt.figure(figsize =(7, 7))\n",
    "    plt.hist(data[ft],bins=12)\n",
    "    plt.show()"
   ]
  },
  {
   "cell_type": "code",
   "execution_count": 153,
   "id": "a67e0c75",
   "metadata": {},
   "outputs": [
    {
     "data": {
      "image/png": "[encoded data removed]",
      "text/plain": [
       "<Figure size 700x700 with 1 Axes>"
      ]
     },
     "metadata": {},
     "output_type": "display_data"
    }
   ],
   "source": [
    "#example histogram of a 'carat' attribute\n",
    "plot_histogram('carat')"
   ]
  },
  {
   "cell_type": "markdown",
   "id": "089dc1f4",
   "metadata": {},
   "source": [
    "'carat' attribute is not normally distributed"
   ]
  },
  {
   "cell_type": "markdown",
   "id": "f54954a1",
   "metadata": {},
   "source": [
    "Another method to test normality is using formal statistical tests. For example, Shapiro-Wilk test. If p-value of the test is greater than 0.05, data could be assumed to be normally distributed."
   ]
  },
  {
   "cell_type": "code",
   "execution_count": 113,
   "id": "97f6787a",
   "metadata": {},
   "outputs": [],
   "source": [
    "from scipy.stats import shapiro "
   ]
  },
  {
   "cell_type": "code",
   "execution_count": 131,
   "id": "e6e7f4f1",
   "metadata": {},
   "outputs": [
    {
     "name": "stdout",
     "output_type": "stream",
     "text": [
      "carat: ShapiroResult(statistic=0.9133425354957581, pvalue=0.0)\n",
      "depth: ShapiroResult(statistic=0.9914793372154236, pvalue=2.6624670822171524e-44)\n",
      "table: ShapiroResult(statistic=0.9675689339637756, pvalue=0.0)\n",
      "price: ShapiroResult(statistic=0.8466212749481201, pvalue=0.0)\n",
      "x: ShapiroResult(statistic=0.9469312429428101, pvalue=0.0)\n",
      "y: ShapiroResult(statistic=0.9463837742805481, pvalue=0.0)\n",
      "z: ShapiroResult(statistic=0.9455302953720093, pvalue=0.0)\n"
     ]
    }
   ],
   "source": [
    "print(\"carat:\", (shapiro(data['carat'])))\n",
    "print(\"depth:\", (shapiro(data['depth'])))\n",
    "print(\"table:\", (shapiro(data['table'])))\n",
    "print(\"price:\", (shapiro(data['price'])))\n",
    "print(\"x:\", (shapiro(data['x'])))\n",
    "print(\"y:\", (shapiro(data['y'])))\n",
    "print(\"z:\", (shapiro(data['z'])))"
   ]
  },
  {
   "cell_type": "markdown",
   "id": "c52d7f33",
   "metadata": {},
   "source": [
    "p-velues for all of the attributes are not greater than 0.05, therefore data is not normally distributed"
   ]
  },
  {
   "cell_type": "markdown",
   "id": "737357bb",
   "metadata": {},
   "source": [
    "'table' data is seems to be closest to 'normally distributed'"
   ]
  },
  {
   "cell_type": "code",
   "execution_count": 155,
   "id": "13ae7804",
   "metadata": {},
   "outputs": [
    {
     "data": {
      "image/png": "[encoded data removed]",
      "text/plain": [
       "<Figure size 700x700 with 1 Axes>"
      ]
     },
     "metadata": {},
     "output_type": "display_data"
    }
   ],
   "source": [
    "plot_histogram('table')"
   ]
  },
  {
   "cell_type": "markdown",
   "id": "0697442c",
   "metadata": {},
   "source": [
    "## Are veriables correlated?"
   ]
  },
  {
   "cell_type": "raw",
   "id": "dc07be04",
   "metadata": {},
   "source": [
    "Summary of correlation coefficient is presented in the correlation matrix below"
   ]
  },
  {
   "cell_type": "code",
   "execution_count": 160,
   "id": "fbf2ccf2",
   "metadata": {},
   "outputs": [
    {
     "name": "stderr",
     "output_type": "stream",
     "text": [
      "C:\\Users\\alyon\\AppData\\Local\\Temp\\ipykernel_12188\\2569932629.py:1: FutureWarning: The default value of numeric_only in DataFrame.corr is deprecated. In a future version, it will default to False. Select only valid columns or specify the value of numeric_only to silence this warning.\n",
      "  cormat = data.corr()\n"
     ]
    },
    {
     "data": {
      "text/html": [
       "<div>\n",
       "<style scoped>\n",
       "    .dataframe tbody tr th:only-of-type {\n",
       "        vertical-align: middle;\n",
       "    }\n",
       "\n",
       "    .dataframe tbody tr th {\n",
       "        vertical-align: top;\n",
       "    }\n",
       "\n",
       "    .dataframe thead th {\n",
       "        text-align: right;\n",
       "    }\n",
       "</style>\n",
       "<table border=\"1\" class=\"dataframe\">\n",
       "  <thead>\n",
       "    <tr style=\"text-align: right;\">\n",
       "      <th></th>\n",
       "      <th>carat</th>\n",
       "      <th>depth</th>\n",
       "      <th>table</th>\n",
       "      <th>price</th>\n",
       "      <th>x</th>\n",
       "      <th>y</th>\n",
       "      <th>z</th>\n",
       "    </tr>\n",
       "  </thead>\n",
       "  <tbody>\n",
       "    <tr>\n",
       "      <th>carat</th>\n",
       "      <td>1.00</td>\n",
       "      <td>0.04</td>\n",
       "      <td>0.19</td>\n",
       "      <td>0.92</td>\n",
       "      <td>0.99</td>\n",
       "      <td>0.99</td>\n",
       "      <td>0.99</td>\n",
       "    </tr>\n",
       "    <tr>\n",
       "      <th>depth</th>\n",
       "      <td>0.04</td>\n",
       "      <td>1.00</td>\n",
       "      <td>-0.24</td>\n",
       "      <td>0.01</td>\n",
       "      <td>-0.01</td>\n",
       "      <td>-0.01</td>\n",
       "      <td>0.09</td>\n",
       "    </tr>\n",
       "    <tr>\n",
       "      <th>table</th>\n",
       "      <td>0.19</td>\n",
       "      <td>-0.24</td>\n",
       "      <td>1.00</td>\n",
       "      <td>0.14</td>\n",
       "      <td>0.19</td>\n",
       "      <td>0.18</td>\n",
       "      <td>0.16</td>\n",
       "    </tr>\n",
       "    <tr>\n",
       "      <th>price</th>\n",
       "      <td>0.92</td>\n",
       "      <td>0.01</td>\n",
       "      <td>0.14</td>\n",
       "      <td>1.00</td>\n",
       "      <td>0.90</td>\n",
       "      <td>0.90</td>\n",
       "      <td>0.90</td>\n",
       "    </tr>\n",
       "    <tr>\n",
       "      <th>x</th>\n",
       "      <td>0.99</td>\n",
       "      <td>-0.01</td>\n",
       "      <td>0.19</td>\n",
       "      <td>0.90</td>\n",
       "      <td>1.00</td>\n",
       "      <td>1.00</td>\n",
       "      <td>0.99</td>\n",
       "    </tr>\n",
       "    <tr>\n",
       "      <th>y</th>\n",
       "      <td>0.99</td>\n",
       "      <td>-0.01</td>\n",
       "      <td>0.18</td>\n",
       "      <td>0.90</td>\n",
       "      <td>1.00</td>\n",
       "      <td>1.00</td>\n",
       "      <td>0.99</td>\n",
       "    </tr>\n",
       "    <tr>\n",
       "      <th>z</th>\n",
       "      <td>0.99</td>\n",
       "      <td>0.09</td>\n",
       "      <td>0.16</td>\n",
       "      <td>0.90</td>\n",
       "      <td>0.99</td>\n",
       "      <td>0.99</td>\n",
       "      <td>1.00</td>\n",
       "    </tr>\n",
       "  </tbody>\n",
       "</table>\n",
       "</div>"
      ],
      "text/plain": [
       "       carat  depth  table  price     x     y     z\n",
       "carat   1.00   0.04   0.19   0.92  0.99  0.99  0.99\n",
       "depth   0.04   1.00  -0.24   0.01 -0.01 -0.01  0.09\n",
       "table   0.19  -0.24   1.00   0.14  0.19  0.18  0.16\n",
       "price   0.92   0.01   0.14   1.00  0.90  0.90  0.90\n",
       "x       0.99  -0.01   0.19   0.90  1.00  1.00  0.99\n",
       "y       0.99  -0.01   0.18   0.90  1.00  1.00  0.99\n",
       "z       0.99   0.09   0.16   0.90  0.99  0.99  1.00"
      ]
     },
     "execution_count": 160,
     "metadata": {},
     "output_type": "execute_result"
    }
   ],
   "source": [
    "cormat = data.corr()\n",
    "round(cormat,2)"
   ]
  },
  {
   "cell_type": "markdown",
   "id": "04f15747",
   "metadata": {},
   "source": [
    "As it can be seen, the strongest positive correlation are between carat, price and size(x,y,x). Table and depth seems to influence price. "
   ]
  },
  {
   "cell_type": "code",
   "execution_count": null,
   "id": "0dd63806",
   "metadata": {},
   "outputs": [],
   "source": []
  }
 ],
 "metadata": {
  "kernelspec": {
   "display_name": "Python 3 (ipykernel)",
   "language": "python",
   "name": "python3"
  },
  "language_info": {
   "codemirror_mode": {
    "name": "ipython",
    "version": 3
   },
   "file_extension": ".py",
   "mimetype": "text/x-python",
   "name": "python",
   "nbconvert_exporter": "python",
   "pygments_lexer": "ipython3",
   "version": "3.11.1"
  }
 },
 "nbformat": 4,
 "nbformat_minor": 5
}
